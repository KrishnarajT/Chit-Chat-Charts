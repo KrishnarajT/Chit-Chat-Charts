{
 "cells": [
  {
   "cell_type": "code",
   "execution_count": null,
   "metadata": {
    "pycharm": {
     "name": "#%%\n"
    }
   },
   "outputs": [],
   "source": [
    "import matplotlib.pyplot as plt\n",
    "import pandas as pd\n",
    "import numpy as np\n",
    "import os, time, re\n",
    "from datetime import datetime"
   ]
  },
  {
   "cell_type": "code",
   "execution_count": null,
   "metadata": {
    "pycharm": {
     "name": "#%%\n"
    }
   },
   "outputs": [],
   "source": [
    "class General :\n",
    "    \n",
    "    @staticmethod\n",
    "    def get_file_name( path ) :\n",
    "        head, tail = ntpath.split( path )\n",
    "        return tail or ntpath.basename( head )\n",
    "    \n",
    "    @staticmethod\n",
    "    def print_info(iterable):\n",
    "        print('Length is : ', len(iterable))\n",
    "        print('Type is : ', type(iterable))\n",
    "        print('Type of iterable[0] is : ', type(iterable[0]))\n",
    "        print('That iterable is : ', iterable[0])\n",
    "        \n",
    "    @staticmethod\n",
    "    def print_len_type(iterable):\n",
    "        print('Length is : ', len(iterable))\n",
    "        print('Type is : ', type(iterable))  \n",
    "                                                      \n",
    "    def read_chat_file(filePath):\n",
    "        with open(filePath, encoding = 'utf8') as fin:\n",
    "            r = fin.readlines()\n",
    "        return r\n"
   ]
  },
  {
   "cell_type": "code",
   "execution_count": null,
   "metadata": {
    "pycharm": {
     "name": "#%%\n"
    }
   },
   "outputs": [],
   "source": [
    "filePath = 'Friend.txt'"
   ]
  },
  {
   "cell_type": "code",
   "execution_count": null,
   "metadata": {
    "pycharm": {
     "name": "#%%\n"
    }
   },
   "outputs": [],
   "source": [
    "class read:\n",
    "    def make_DataFrames(filePath):\n",
    "\n",
    "        words = []\n",
    "        eachWordMetaData = []\n",
    "        eachMessageMetaData = []\n",
    "        people = set()\n",
    "        lines = General.read_chat_file(filePath)\n",
    "\n",
    "        # removing the unwanted lines\n",
    "        for l in lines[:]:\n",
    "            if '/' not in l:\n",
    "                lines.remove(l)\n",
    "\n",
    "        # splitting the lines into lists that have words\n",
    "        for l in lines:\n",
    "            words.append(l.split())\n",
    "\n",
    "        # cleaning the date and names, making everything lowercase, removing hyphens\n",
    "        for i in words:\n",
    "            i[0] = i[0].strip(',')\n",
    "            i[3] = i[3].strip(':')\n",
    "            for j in range(len(i)):\n",
    "                i[j] = i[j].lower()\n",
    "            i.remove(i[2])\n",
    "\n",
    "        # removing useless whatsapp info\n",
    "        for i in words:\n",
    "            if i[2] == 'messages':\n",
    "                words.remove(i)\n",
    "\n",
    "        # figuring out who the people are by taking the 2 names involved in the first 100 texts\n",
    "        for i in words[:100]:\n",
    "            people.add(i[2])\n",
    "        person1, person2 = people\n",
    "\n",
    "        # Changing their datatypes, now that names are known, so as to make counting easier\n",
    "        # as ints are faster to iterate over than strings. Converting the date to its datetime format.\n",
    "        for i in words:\n",
    "            if i[2] == person1:\n",
    "                i[2] = 1\n",
    "            else: i[2] = 2\n",
    "            i[0] = datetime.strptime(i[0] + ' ' + i[1], '%m/%d/%y %H:%M')\n",
    "            i.remove(i[1])\n",
    "\n",
    "        # Making a list with just the messages and its metadata, just the words and their metadata.\n",
    "        for i in words:\n",
    "            message = ''\n",
    "            for j in range(2, len(i)):\n",
    "                eachWordMetaData.append([i[1], i[0], i[j]])\n",
    "                message += i[j] + ' '\n",
    "            eachMessageMetaData.append([i[1], i[0], message.strip(' ')])\n",
    "\n",
    "        # Making DataFrames for each person for words and messages using the lists made above.\n",
    "        wordDf = pd.DataFrame(eachWordMetaData, columns = ['Speaker', 'Date', 'Word'])\n",
    "        wordDf_P1 = wordDf[wordDf['Speaker'] == 1]\n",
    "        wordDf_P2 = wordDf[wordDf['Speaker'] == 2]\n",
    "        messageDf = pd.DataFrame(eachMessageMetaData, columns = ['Speaker', 'Date', 'Message'])\n",
    "        messageDf_P1 = messageDf[messageDf['Speaker'] == 1]\n",
    "        messageDf_P2 = messageDf[messageDf['Speaker'] == 2]\n"
   ]
  },
  {
   "cell_type": "markdown",
   "metadata": {
    "pycharm": {
     "name": "#%% md\n"
    }
   },
   "source": [
    "# Calculating the Statistics"
   ]
  },
  {
   "cell_type": "code",
   "execution_count": null,
   "metadata": {
    "pycharm": {
     "name": "#%%\n"
    }
   },
   "outputs": [],
   "source": [
    "# making a statistics list to give back to the UI, that has all the basic info. \n",
    "# rest of the stuff is just basic data collection from dataframes. Nothing imp to explain.\n",
    "\n",
    "statisticsList = []\n",
    "\n",
    "# Messages Data\n",
    "totalMessages = len(messageDf)\n",
    "totalMessages_P1 = len(messageDf_P1)\n",
    "totalMessages_P2 = len(messageDf_P2)\n",
    "messagesPerc_P1 = round((totalMessages_P1/totalMessages) * 100, 2)\n",
    "messagesPerc_P2 = round((totalMessages_P2/totalMessages) * 100, 2)\n",
    "\n",
    "# Words Data\n",
    "totalWords = len(wordDf)\n",
    "totalWords_P1 = len(wordDf_P1)\n",
    "totalWords_P2 = len(wordDf_P2)\n",
    "wordsPerc_P1 = round((totalWords_P1/totalWords) * 100, 2)\n",
    "wordsPerc_P2 = round((totalWords_P2/totalWords) * 100, 2)\n",
    "\n",
    "# Unique Words\n",
    "uniqueWords_P1 = wordDf_P1['Word'].unique()\n",
    "uniqueWords_P2 = wordDf_P2['Word'].unique()\n",
    "uniqueWords = wordDf['Word'].unique()\n",
    "\n",
    "# now some Dates and times\n",
    "totalMinutes = len(messageDf['Date'].unique())\n",
    "uniqueDates = list(messageDf['Date'].apply(lambda x : x.replace(hour = 0, minute = 0, second = 0)).unique())\n",
    "totalDays = len(uniqueDates)\n",
    "\n",
    "# Finding the total time spent talking, and setting the right unit for it\n",
    "totalTime = 0\n",
    "timeUnit = 'M'\n",
    "if totalMinutes > 60:\n",
    "    totalTime = totalMinutes / 60\n",
    "    timeUnit = 'H'\n",
    "elif totalMinutes > 1440 :\n",
    "    totalTime = totalMinutes/1440\n",
    "    timeUnit = 'D'\n",
    "else : totalTime = totalMinutes\n",
    "totalTime = round(totalTime, 2)\n",
    "\n",
    "# Finding Unique Words used by each, excluding emojis, and then finding most used words.\n",
    "wordUsage_P1 = wordDf_P2['Word'].value_counts()\n",
    "wordUsage_P2 = wordDf_P1['Word'].value_counts()\n",
    "for i in wordUsage_P1.index:\n",
    "    if i == '😂':\n",
    "        wordUsage_P2.pop(i)\n",
    "for i in wordUsage_P2.index:\n",
    "    if i == '😂':\n",
    "        wordUsage_P2.pop(i)\n",
    "mostUsedWord_P1 = wordUsage_P1.index[0]\n",
    "mostUsedWord_P2 = wordUsage_P2.index[0]\n",
    "\n",
    "# finding the days without talking\n",
    "dateDifferences = []\n",
    "\n",
    "for i in range(1, len(uniqueDates)):\n",
    "    dateDifferences.append(uniqueDates[i] - uniqueDates[i-1])\n",
    "dateDifferences = np.array(dateDifferences).astype('timedelta64[h]')\n",
    "for i in range(len(dateDifferences)):\n",
    "    dateDifferences[i] = dateDifferences[i]/24\n",
    "dateDifferences = dateDifferences.astype('int64')\n",
    "maxDaysNoTalk = dateDifferences.max()\n",
    "\n",
    "# Finding the number of days talked continuously.\n",
    "maxDaysTalk = 0\n",
    "count = 0\n",
    "for i in range(1, len(dateDifferences)):\n",
    "    if dateDifferences[i] == dateDifferences[i-1]:\n",
    "        count += 1\n",
    "        if count >= maxDaysTalk:\n",
    "            maxDaysTalk = count\n",
    "    else : count = 1\n",
    "\n",
    "# Finding the maximum time spent talking in one day\n",
    "# since you cant just take hours, as people talk in different hours wont mean they talk that much time, \n",
    "# we would take minutes, and then divide them to get hours\n",
    "uniqueMinutes = messageDf['Date'].unique()\n",
    "count = 1\n",
    "maxMinutes = 0\n",
    "for i in range(1, len(uniqueMinutes)):\n",
    "    if uniqueMinutes[i].astype('datetime64[D]') == uniqueMinutes[i-1].astype('datetime64[D]'):\n",
    "        count += 1\n",
    "        if count >= maxMinutes:\n",
    "            maxMinutes = count\n",
    "    else: count = 1\n",
    "\n",
    "# Setting the right time unit for it\n",
    "maxTime = 0\n",
    "timeUnit = 'M'\n",
    "if maxMinutes > 60:\n",
    "    maxTime = maxMinutes / 60\n",
    "    timeUnit = 'H'\n",
    "else : maxTime = maxMinutes\n",
    "maxTime = round(maxTime, 2)"
   ]
  },
  {
   "cell_type": "code",
   "execution_count": null,
   "metadata": {
    "pycharm": {
     "name": "#%%\n"
    }
   },
   "outputs": [],
   "source": [
    "# Appending the general stats to the list to give back to the UI\n",
    "\n",
    "statisticsList.append('Total Number of Messages between both is : ' + str(totalMessages) + ', and words is : ' + str(totalWords))\n",
    "if timeUnit == 'M':\n",
    "    statisticsList.append('Total Number of Minutes spent talking is : ' + str(totalTime))\n",
    "elif timeUnit == 'H':\n",
    "    statisticsList.append('Total Number of Hours spent talking is : ' + str(totalTime))\n",
    "elif timeUnit == 'D':\n",
    "    statisticsList.append('Total Number of Days spent talking is : ' + str(totalTime))\n",
    "\n",
    "\n",
    "statisticsList.append('Average time spent Talking Daily is : ' + str(round(totalMinutes/totalDays)) + ' Minutes')\n",
    "statisticsList.append('Total Messages sent by ' + person1 + ' is : ' + str(totalMessages_P1) + ' which is ' + str(messagesPerc_P1) + ' %')\n",
    "statisticsList.append('Total Messages sent by ' + person2 + ' is : ' + str(totalMessages_P2) + ' which is ' + str(messagesPerc_P2) + ' %')\n",
    "statisticsList.append('Total Words sent by ' + person1 + ' is : ' + str(totalWords_P1) + ' which is ' + str(wordsPerc_P1) + ' %')\n",
    "statisticsList.append('Total Words sent by ' + person2 + ' is : ' + str(totalWords_P2) + ' which is ' + str(wordsPerc_P2) + ' %')\n",
    "statisticsList.append('Average Length of Each message of ' + person1 + ' is ' + str(round(totalWords_P1/totalMessages_P1)) + ' Words')\n",
    "statisticsList.append('Average Length of Each message of ' + person2 + ' is ' + str(round(totalWords_P2/totalMessages_P2)) + ' Words')\n",
    "\n",
    "statisticsList.append('Total Unique words used are ' + str(len(uniqueWords)) + ', ' + str(len(uniqueWords_P1)) + ' by ' + person1 + ' and ' + str(len(uniqueWords_P2)) + ' by ' + person2)\n",
    "statisticsList.append('The Most used word by ' + person1 + ' is ' + '\\\"' + mostUsedWord_P1.upper() + '\\\"' + ', by ' + person2 + ' is ' + '\\\"' + mostUsedWord_P2.upper() + '\\\"')\n",
    "\n",
    "statisticsList.append('The Most Days without talking were : ' + str(maxDaysNoTalk))\n",
    "statisticsList.append('The Most Days talking consecutively were : ' + str(maxDaysTalk))\n",
    "if timeUnit == 'M':\n",
    "    statisticsList.append('Maximum number of Minutes spent talking in one day is : ' + str(maxTime))\n",
    "elif timeUnit == 'H':\n",
    "    statisticsList.append('Maximum number of Hours spent talking in one day is : ' + str(maxTime))"
   ]
  },
  {
   "cell_type": "code",
   "execution_count": null,
   "metadata": {
    "pycharm": {
     "name": "#%%\n"
    }
   },
   "outputs": [],
   "source": [
    "statisticsList"
   ]
  },
  {
   "cell_type": "markdown",
   "metadata": {
    "pycharm": {
     "name": "#%% md\n"
    }
   },
   "source": [
    "# Messages Daily"
   ]
  },
  {
   "cell_type": "code",
   "execution_count": null,
   "metadata": {
    "pycharm": {
     "name": "#%%\n"
    }
   },
   "outputs": [],
   "source": [
    "uniqueDates_P1 = messageDf_P1['Date'].apply(lambda x : x.replace(hour = 0, minute = 0, second = 0))\n",
    "uniqueDates_P2 = messageDf_P2['Date'].apply(lambda x : x.replace(hour = 0, minute = 0, second = 0))\n",
    "uniqueDates_Both = messageDf['Date'].apply(lambda x : x.replace(hour = 0, minute = 0, second = 0))\n",
    "\n",
    "# Making DataFrames for Messages Sent Each Day\n",
    "messagesEachDay_P1 = uniqueDates_P1.value_counts()\n",
    "data = {\n",
    "    'Dates' : list(messagesEachDay_P1.index),\n",
    "    'Number of messages' : list(messagesEachDay_P1)\n",
    "}\n",
    "messagesEachDayDf_P1 = pd.DataFrame(data).sort_values(by = ['Dates'])\n",
    "\n",
    "messagesEachDay_P2 = uniqueDates_P2.value_counts()\n",
    "data = {\n",
    "    'Dates' : list(messagesEachDay_P2.index),\n",
    "    'Number of messages' : list(messagesEachDay_P2)\n",
    "}\n",
    "messagesEachDayDf_P2 = pd.DataFrame(data).sort_values(by = ['Dates'])\n",
    "\n",
    "messagesEachDay_Both = uniqueDates_Both.value_counts()\n",
    "data = {\n",
    "    'Dates' : list(messagesEachDay_Both.index),\n",
    "    'Number of messages' : list(messagesEachDay_Both)\n",
    "}\n",
    "messagesEachDayDf_Both = pd.DataFrame(data).sort_values(by = ['Dates'])\n",
    "\n",
    "\n",
    "plt.style.use('fivethirtyeight')\n",
    "plt.plot(messagesEachDayDf_P1['Dates'], messagesEachDayDf_P1['Number of messages'], label = person1, color = '#367ee2', linewidth = 1)\n",
    "plt.plot(messagesEachDayDf_P2['Dates'], messagesEachDayDf_P2['Number of messages'], label = person2, color = '#3ba566', linewidth = 1)\n",
    "plt.plot(messagesEachDayDf_Both['Dates'], messagesEachDayDf_Both['Number of messages'], label = 'Both', color = '#5f4b95', linewidth = 1)\n",
    "plt.gcf().autofmt_xdate()\n",
    "plt.title(f'{person1} with {person2} Messages Sent Daily')\n",
    "plt.legend(loc = 'best')\n",
    "plt.savefig(f'{person1} with {person2} Messages Sent Daily.jpg', dpi = 300)"
   ]
  },
  {
   "cell_type": "markdown",
   "metadata": {
    "pycharm": {
     "name": "#%% md\n"
    }
   },
   "source": [
    "# Words Daily"
   ]
  },
  {
   "cell_type": "code",
   "execution_count": null,
   "metadata": {
    "pycharm": {
     "name": "#%%\n"
    }
   },
   "outputs": [],
   "source": [
    "uniqueDates_P1 = wordDf_P1['Date'].apply(lambda x : x.replace(hour = 0, minute = 0, second = 0))\n",
    "uniqueDates_P2 = wordDf_P2['Date'].apply(lambda x : x.replace(hour = 0, minute = 0, second = 0))\n",
    "uniqueDates_Both = wordDf['Date'].apply(lambda x : x.replace(hour = 0, minute = 0, second = 0))\n",
    "\n",
    "# Making DataFrames for words Sent Each Day\n",
    "wordsEachDay_P1 = uniqueDates_P1.value_counts()\n",
    "data = {\n",
    "    'Dates' : list(wordsEachDay_P1.index),\n",
    "    'Number of words' : list(wordsEachDay_P1)\n",
    "}\n",
    "wordsEachDayDf_P1 = pd.DataFrame(data).sort_values(by = ['Dates'])\n",
    "\n",
    "wordsEachDay_P2 = uniqueDates_P2.value_counts()\n",
    "data = {\n",
    "    'Dates' : list(wordsEachDay_P2.index),\n",
    "    'Number of words' : list(wordsEachDay_P2)\n",
    "}\n",
    "wordsEachDayDf_P2 = pd.DataFrame(data).sort_values(by = ['Dates'])\n",
    "\n",
    "wordsEachDay_Both = uniqueDates_Both.value_counts()\n",
    "data = {\n",
    "    'Dates' : list(wordsEachDay_Both.index),\n",
    "    'Number of words' : list(wordsEachDay_Both)\n",
    "}\n",
    "wordsEachDayDf_Both = pd.DataFrame(data).sort_values(by = ['Dates'])\n",
    "\n",
    "\n",
    "plt.style.use('fivethirtyeight')\n",
    "plt.plot(wordsEachDayDf_P1['Dates'], wordsEachDayDf_P1['Number of words'], label = person1, color = '#367ee2', linewidth = 1)\n",
    "plt.plot(wordsEachDayDf_P2['Dates'], wordsEachDayDf_P2['Number of words'], label = person2, color = '#3ba566', linewidth = 1)\n",
    "plt.plot(wordsEachDayDf_Both['Dates'], wordsEachDayDf_Both['Number of words'], label = 'Both', color = '#5f4b95', linewidth = 1)\n",
    "plt.gcf().autofmt_xdate()\n",
    "plt.title(f'{person1} with {person2} words Sent Daily')\n",
    "plt.legend(loc = 'best')\n",
    "plt.savefig(f'{person1} with {person2} words Sent Daily.jpg', dpi = 300)"
   ]
  },
  {
   "cell_type": "markdown",
   "metadata": {
    "pycharm": {
     "name": "#%% md\n"
    }
   },
   "source": [
    "# Percentage of Messages"
   ]
  },
  {
   "cell_type": "code",
   "execution_count": null,
   "metadata": {
    "pycharm": {
     "name": "#%%\n"
    }
   },
   "outputs": [],
   "source": [
    "plt.pie([messagesPerc_P1,  messagesPerc_P2], startangle = 90, labels = [person1, person2], colors = ['#367ee2', '#3ba566'], shadow = True, autopct = '%1.2f%%')\n",
    "plt.legend(loc = 'best')\n",
    "plt.title(f'{person1} and {person2} Percentage of Messages Sent')\n",
    "plt.savefig(f'{person1} and {person2} Percentage of Messages Sent', dpi = 300)"
   ]
  },
  {
   "cell_type": "markdown",
   "metadata": {
    "pycharm": {
     "name": "#%% md\n"
    }
   },
   "source": [
    "# Percentage of Words"
   ]
  },
  {
   "cell_type": "code",
   "execution_count": null,
   "metadata": {
    "pycharm": {
     "name": "#%%\n"
    }
   },
   "outputs": [],
   "source": [
    "plt.pie([wordsPerc_P1,  wordsPerc_P2], startangle = 90, labels = [person1, person2], colors = ['#367ee2', '#3ba566'], shadow = True, autopct = '%1.2f%%')\n",
    "plt.legend(loc = 'best')\n",
    "plt.title(f'{person1} and {person2} Percentage of Words Sent')\n",
    "plt.savefig(f'{person1} and {person2} Percentage of Words Sent', dpi = 300)"
   ]
  },
  {
   "cell_type": "markdown",
   "metadata": {
    "pycharm": {
     "name": "#%% md\n"
    }
   },
   "source": [
    "# Messages Monthly"
   ]
  },
  {
   "cell_type": "code",
   "execution_count": null,
   "metadata": {
    "pycharm": {
     "name": "#%%\n"
    }
   },
   "outputs": [],
   "source": [
    "uniqueDates_P1 = messageDf_P1['Date'].apply(lambda x : x.replace(day = 1, hour = 0, minute = 0, second = 0))\n",
    "uniqueDates_P2 = messageDf_P2['Date'].apply(lambda x : x.replace(day = 1, hour = 0, minute = 0, second = 0))\n",
    "uniqueDates_Both = messageDf['Date'].apply(lambda x : x.replace(day = 1, hour = 0, minute = 0, second = 0))\n",
    "\n",
    "# Making DataFrames for Messages Sent Each Day\n",
    "messagesEachDay_P1 = uniqueDates_P1.value_counts()\n",
    "data = {\n",
    "    'Dates' : list(messagesEachDay_P1.index),\n",
    "    'Number of messages' : list(messagesEachDay_P1)\n",
    "}\n",
    "messagesEachDayDf_P1 = pd.DataFrame(data).sort_values(by = ['Dates'])\n",
    "\n",
    "messagesEachDay_P2 = uniqueDates_P2.value_counts()\n",
    "data = {\n",
    "    'Dates' : list(messagesEachDay_P2.index),\n",
    "    'Number of messages' : list(messagesEachDay_P2)\n",
    "}\n",
    "messagesEachDayDf_P2 = pd.DataFrame(data).sort_values(by = ['Dates'])\n",
    "\n",
    "messagesEachDay_Both = uniqueDates_Both.value_counts()\n",
    "data = {\n",
    "    'Dates' : list(messagesEachDay_Both.index),\n",
    "    'Number of messages' : list(messagesEachDay_Both)\n",
    "}\n",
    "messagesEachDayDf_Both = pd.DataFrame(data).sort_values(by = ['Dates'])\n",
    "\n",
    "\n",
    "plt.style.use('fivethirtyeight')\n",
    "plt.plot(messagesEachDayDf_P1['Dates'], messagesEachDayDf_P1['Number of messages'], label = person1, color = '#367ee2', linewidth = 1)\n",
    "plt.plot(messagesEachDayDf_P2['Dates'], messagesEachDayDf_P2['Number of messages'], label = person2, color = '#3ba566', linewidth = 1)\n",
    "plt.plot(messagesEachDayDf_Both['Dates'], messagesEachDayDf_Both['Number of messages'], label = 'Both', color = '#5f4b95', linewidth = 1)\n",
    "a = [i.to_pydatetime().strftime('%B') for i in messagesEachDayDf_P1['Dates']]\n",
    "plt.xticks(labels = a, ticks = [i.to_pydatetime() for i in messagesEachDayDf_P1['Dates']])\n",
    "plt.gcf().autofmt_xdate()\n",
    "plt.title(f'{person1} with {person2} Messages Sent Monthly')\n",
    "plt.legend(loc = 'best')\n",
    "plt.savefig(f'{person1} with {person2} Messages Sent Monthly.jpg', dpi = 300)"
   ]
  },
  {
   "cell_type": "markdown",
   "metadata": {
    "pycharm": {
     "name": "#%% md\n"
    }
   },
   "source": [
    "# Words Sent Monthly"
   ]
  },
  {
   "cell_type": "code",
   "execution_count": null,
   "metadata": {
    "pycharm": {
     "name": "#%%\n"
    }
   },
   "outputs": [],
   "source": [
    "wordDatesMonthly_P1 = wordDf_P1['Date'].apply(lambda x : x.replace(day = 1, hour = 0, minute = 0, second = 0))\n",
    "wordDatesMonthly_P2 = wordDf_P2['Date'].apply(lambda x : x.replace(day = 1, hour = 0, minute = 0, second = 0))\n",
    "wordDatesMonthly_Both = wordDf['Date'].apply(lambda x : x.replace(day = 1, hour = 0, minute = 0, second = 0))\n",
    "\n",
    "# Making DataFrames for words Sent Each Day\n",
    "wordsEachDay_P1 = wordDatesMonthly_P1.value_counts()\n",
    "data = {\n",
    "    'Dates' : list(wordsEachDay_P1.index),\n",
    "    'Number of words' : list(wordsEachDay_P1)\n",
    "}\n",
    "wordsEachDayDf_P1 = pd.DataFrame(data).sort_values(by = ['Dates'])\n",
    "\n",
    "wordsEachDay_P2 = wordDatesMonthly_P2.value_counts()\n",
    "data = {\n",
    "    'Dates' : list(wordsEachDay_P2.index),\n",
    "    'Number of words' : list(wordsEachDay_P2)\n",
    "}\n",
    "wordsEachDayDf_P2 = pd.DataFrame(data).sort_values(by = ['Dates'])\n",
    "\n",
    "wordsEachDay_Both = wordDatesMonthly_Both.value_counts()\n",
    "data = {\n",
    "    'Dates' : list(wordsEachDay_Both.index),\n",
    "    'Number of words' : list(wordsEachDay_Both)\n",
    "}\n",
    "wordsEachDayDf_Both = pd.DataFrame(data).sort_values(by = ['Dates'])\n",
    "\n",
    "\n",
    "plt.style.use('fivethirtyeight')\n",
    "plt.plot(wordsEachDayDf_P1['Dates'], wordsEachDayDf_P1['Number of words'], label = person1, color = '#367ee2', linewidth = 1.5)\n",
    "plt.plot(wordsEachDayDf_P2['Dates'], wordsEachDayDf_P2['Number of words'], label = person2, color = '#3ba566', linewidth = 1.5)\n",
    "plt.plot(wordsEachDayDf_Both['Dates'], wordsEachDayDf_Both['Number of words'], label = 'Both', color = '#5f4b95', linewidth = 1.5)\n",
    "a = [i.to_pydatetime().strftime('%B') for i in wordsEachDayDf_P1['Dates']]\n",
    "plt.xticks(labels = a, ticks = [i.to_pydatetime() for i in wordsEachDayDf_P1['Dates']])\n",
    "plt.gcf().autofmt_xdate()\n",
    "plt.title(f'{person1} with {person2} words Sent Monthly')\n",
    "plt.legend(loc = 'best')\n",
    "plt.savefig(f'{person1} with {person2} words Sent Monthly.jpg', dpi = 300)"
   ]
  },
  {
   "cell_type": "markdown",
   "metadata": {
    "pycharm": {
     "name": "#%% md\n"
    }
   },
   "source": [
    "# 20 Most used Words"
   ]
  },
  {
   "cell_type": "code",
   "execution_count": null,
   "metadata": {
    "pycharm": {
     "name": "#%%\n"
    }
   },
   "outputs": [],
   "source": [
    "wordDatesMonthly_P1 = wordDf_P1['Date'].apply(lambda x : x.replace(day = 1, hour = 0, minute = 0, second = 0))\n",
    "wordDatesMonthly_P2 = wordDf_P2['Date'].apply(lambda x : x.replace(day = 1, hour = 0, minute = 0, second = 0))\n",
    "\n",
    "wordsEachDay_P1 = wordDatesMonthly_P1.value_counts()\n",
    "data = {\n",
    "    'Words' : list(wordUsage_P1.index),\n",
    "    'Number' : list(wordUsage_P1)\n",
    "}\n",
    "wordUsageDf_P1 = pd.DataFrame(data).sort_values(by = ['Number'], ascending = False)\n",
    "\n",
    "wordUsageDf_P2 = wordDatesMonthly_P2.value_counts()\n",
    "data = {\n",
    "    'Words' : list(wordUsage_P2.index),\n",
    "    'Number' : list(wordUsage_P2)\n",
    "}\n",
    "wordUsageDf_P2 = pd.DataFrame(data).sort_values(by = ['Number'], ascending = False)\n",
    "\n",
    "num_of_words = 20\n",
    "\n",
    "p1x = np.arange(num_of_words)\n",
    "p2x = np.arange(num_of_words) + np.array(0.3)\n",
    "plt.figure(figsize=(20, 7))\n",
    "plt.style.use('fivethirtyeight')\n",
    "plt.bar(p1x, wordUsageDf_P1['Number'][:num_of_words], label = person1, color = '#9d63cf', width = 0.3, edgecolor = 'k')\n",
    "plt.bar(p2x, wordUsageDf_P2['Number'][:num_of_words], label = person2, color = '#ecac74', width = 0.3, edgecolor = 'k')\n",
    "l = []\n",
    "for i in range(num_of_words):\n",
    "    l.append(wordUsageDf_P1['Words'][:num_of_words][i])\n",
    "    l.append(wordUsageDf_P2['Words'][:num_of_words][i])\n",
    "\n",
    "t = np.vstack((p1x, p2x)).reshape((-1,),order='F')\n",
    "plt.xticks(ticks = t, labels = l, rotation = 45)\n",
    "plt.title(f'{person1} with {person2} Top 20 Words')\n",
    "plt.legend(loc = 'best')\n",
    "plt.savefig(f'{person1} with {person2} Top 20 Words.jpg', dpi = 300)"
   ]
  },
  {
   "cell_type": "code",
   "execution_count": null,
   "metadata": {
    "pycharm": {
     "name": "#%%\n"
    }
   },
   "outputs": [],
   "source": [
    "pd.Series(uniqueDates)"
   ]
  },
  {
   "cell_type": "code",
   "execution_count": null,
   "metadata": {
    "pycharm": {
     "name": "#%%\n"
    }
   },
   "outputs": [],
   "source": [
    "just_dates = pd.Series(messageDf['Date'].unique()).apply(lambda x : x.replace(hour = 0, minute = 0, second = 0))\n",
    "HoursDaily = (just_dates.value_counts()/60).sort_index()\n",
    "# a = pd.Series([i.to_pydatetime().strftime('%b') for i in HoursDaily.index]).unique()\n",
    "plt.plot(HoursDaily.index, HoursDaily, color = '#9d63cf', linewidth = 1.5)\n",
    "plt.title(f'{person1} with {person2} Time Spent Daily')\n",
    "plt.xlabel('Dates')\n",
    "plt.ylabel('Hours')\n",
    "plt.gcf().autofmt_xdate()\n",
    "plt.savefig(f'{person1} with {person2} Time Spent Daily.jpg', dpi = 300)"
   ]
  },
  {
   "cell_type": "code",
   "execution_count": null,
   "metadata": {
    "pycharm": {
     "name": "#%%\n"
    }
   },
   "outputs": [],
   "source": [
    "just_dates = pd.Series(pd.Series(messageDf['Date'].unique()).apply(lambda x : x.replace(day = 1, hour = 0, minute = 0, second = 0)))\n",
    "HoursMonthly = (just_dates.value_counts()/60).sort_index()\n",
    "a = pd.Series([i.to_pydatetime().strftime('%B-%Y') for i in HoursMonthly.index])\n",
    "plt.bar(a, HoursMonthly, color = '#71194b', linewidth = 1.5)\n",
    "plt.title(f'{person1} with {person2} Time Spent Monthly')\n",
    "plt.xlabel('Months')\n",
    "plt.ylabel('Hours')\n",
    "plt.gcf().autofmt_xdate()\n",
    "plt.savefig(f'{person1} with {person2} Time Spent Monthly.jpg', dpi = 300)"
   ]
  },
  {
   "cell_type": "markdown",
   "metadata": {
    "pycharm": {
     "name": "#%% md\n"
    }
   },
   "source": [
    "# Usage of Particular Words Over time"
   ]
  },
  {
   "cell_type": "code",
   "execution_count": null,
   "metadata": {
    "pycharm": {
     "name": "#%%\n"
    }
   },
   "outputs": [],
   "source": [
    "words = ['and', 'may', 'hi', 'the', 'a', 'it', 'sleep', 'night', 'morning', 'die', 'hell', 'that', 'yea', 'Friend']\n",
    "colors = ['#296a30', '#1d8baf', '#c94a4a', '#9d63cf']\n",
    "import math\n",
    "for i in range(math.ceil(len(words)/4)):\n",
    "    for _, word in enumerate(words[i*4:(i+1)*4], start = 0):\n",
    "        try:\n",
    "            particularWordDf = wordDf[wordDf['Word'] == word]\n",
    "            particularWordUsage = particularWordDf['Date'].apply(lambda x : x.replace(hour = 0, minute = 0, second = 0)).value_counts().sort_index()\n",
    "            plt.plot(particularWordUsage, color = colors[_], linewidth = 1, label = word)\n",
    "            plt.title(f'{person1} and {person2} Special Word Usages - ' + str(i+1))\n",
    "            plt.legend(loc = 'best')\n",
    "            plt.xlabel('Dates')\n",
    "            plt.ylabel('Number of Times Used')\n",
    "            plt.gcf().autofmt_xdate()\n",
    "        except IndexError as err:\n",
    "            print(err)\n",
    "            break\n",
    "    plt.savefig(f'{person1} and {person2} Special Word Usages - ' + str(i+1) + '.jpg', dpi = 300)\n",
    "    plt.clf()"
   ]
  },
  {
   "cell_type": "markdown",
   "metadata": {
    "pycharm": {
     "name": "#%% md\n"
    }
   },
   "source": [
    "# Length of Each Session Histogram"
   ]
  },
  {
   "cell_type": "code",
   "execution_count": null,
   "metadata": {
    "pycharm": {
     "name": "#%%\n"
    }
   },
   "outputs": [],
   "source": [
    "uniqueMinutes = messageDf['Date'].unique()\n",
    "bins = list(np.arange(0, 10, step = .5))\n",
    "bins = [1, 2, 3, 4, 5, 10, 15, 20, 25, 30, 35, 40, 45, 50, 60, 90, 120, 150, 180, 210, 240, 300, 1000]\n",
    "\n",
    "uniqueMinutes = pd.Series(uniqueMinutes).sort_values()\n",
    "count = 1\n",
    "sessions = []\n",
    "for i in range(len(uniqueMinutes)-1):\n",
    "    if uniqueMinutes[i].to_pydatetime().strftime('%y%m%d%h') == uniqueMinutes[i].to_pydatetime().strftime('%y%m%d%h'):\n",
    "        if uniqueMinutes[i].minute >= uniqueMinutes[i+1].minute - 5:\n",
    "            count += 1\n",
    "        else :\n",
    "            sessions.append(count)\n",
    "            count = 1\n",
    "h,e = np.histogram(sessions, bins=bins)\n",
    "plt.bar(range(len(bins)-1),h, width=1, edgecolor='#296a30',  color = '#9bee81')\n",
    "labels = []\n",
    "labels.append('<1')\n",
    "for i in range(1, 13 ):\n",
    "    labels.append(str(bins[i]) + '-' + str(bins[i+1]))\n",
    "for i in ['1 Hr', '1.5 Hr', '2 Hr', '2.5 Hr', '3 Hr', '3.5 Hr', '4 Hr', '5 Hr', '5+ Hrs']:\n",
    "    labels.append(i)\n",
    "plt.xlabel('Minutes')\n",
    "plt.ylabel('Number of Sessions')\n",
    "plt.title(f'{person1} with {person2} Length of Texting Sessions')\n",
    "plt.xticks(ticks = range(len(bins)-1), labels = labels, rotation = 45)\n",
    "plt.savefig(f'{person1} and {person2} Session Times.jpg', dpi = 300)\n"
   ]
  },
  {
   "cell_type": "markdown",
   "metadata": {
    "pycharm": {
     "name": "#%% md\n"
    }
   },
   "source": [
    "# Time Spent on Each WeekDay"
   ]
  },
  {
   "cell_type": "code",
   "execution_count": null,
   "metadata": {
    "pycharm": {
     "name": "#%%\n"
    }
   },
   "outputs": [],
   "source": [
    "uniqueMinutes = pd.Series(messageDf['Date'].unique()).sort_values()\n",
    "weekdays = [0 for i in range(7)]\n",
    "for i in range(len(uniqueMinutes)):\n",
    "    if uniqueMinutes[i].day_name() == 'Monday':\n",
    "        weekdays[0] += 1\n",
    "    elif uniqueMinutes[i].day_name() == 'Tuesday':\n",
    "        weekdays[1] += 1\n",
    "    elif uniqueMinutes[i].day_name() == 'Wednesday':\n",
    "        weekdays[2] += 1\n",
    "    elif uniqueMinutes[i].day_name() == 'Thursday':\n",
    "        weekdays[3] += 1\n",
    "    elif uniqueMinutes[i].day_name() == 'Friday':\n",
    "        weekdays[4] += 1\n",
    "    elif uniqueMinutes[i].day_name() == 'Saturday':\n",
    "        weekdays[5] += 1\n",
    "    elif uniqueMinutes[i].day_name() == 'Sunday':\n",
    "        weekdays[6] += 1\n",
    "\n",
    "weekdays = [i/60 for i in weekdays]\n",
    "plt.bar(range(7), weekdays, color = '#ecac74')\n",
    "plt.title(f'{person1} with {person2} Total Hours Spent over the Week')\n",
    "plt.xlabel('WeekDays')\n",
    "plt.ylabel('Hours')\n",
    "plt.xticks(labels = ['Monday', 'Tuesday', 'Wednesday', 'Thursday', 'Friday', 'Saturday', 'Sunday'], ticks = np.arange(7), rotation = 10)\n",
    "plt.savefig(f'{person1} with {person2} Total Time spent Over the Week.jpg', dpi = 300)"
   ]
  },
  {
   "cell_type": "markdown",
   "metadata": {
    "pycharm": {
     "name": "#%% md\n"
    }
   },
   "source": [
    "# Most Active Hours"
   ]
  },
  {
   "cell_type": "code",
   "execution_count": null,
   "metadata": {
    "pycharm": {
     "name": "#%%\n"
    }
   },
   "outputs": [],
   "source": [
    "messagesEachHour = messageDf['Date'].apply(lambda x : x.replace(day = 1, month = 1, year = 2020, minute = 0, second = 0)).value_counts().sort_index()\n",
    "pd.Series(messagesEachHour.index)\n",
    "hours = [i.hour for i in pd.Series(messagesEachHour.index)]"
   ]
  },
  {
   "cell_type": "code",
   "execution_count": null,
   "metadata": {
    "pycharm": {
     "name": "#%%\n"
    }
   },
   "outputs": [],
   "source": [
    "plt.bar(hours, messagesEachHour, color = '#ecac74')\n",
    "plt.title(f'{person1} with {person2} Total Messages Each Hour All Time')\n",
    "plt.xlabel('Hours')\n",
    "plt.ylabel('Number of Messages')\n",
    "plt.savefig(f'{person1} with {person2} Total Messages Each Hour All Time.jpg', dpi = 300)"
   ]
  },
  {
   "cell_type": "code",
   "execution_count": null,
   "metadata": {
    "pycharm": {
     "name": "#%%\n"
    }
   },
   "outputs": [],
   "source": []
  },
  {
   "cell_type": "code",
   "execution_count": null,
   "metadata": {
    "pycharm": {
     "name": "#%%\n"
    }
   },
   "outputs": [],
   "source": [
    "date_regex = re.compile(r\"((\\d|1[0-2])/[0-2]\\d|3[01])/([12]\\d{1})\")\n",
    "match = date_regex.search('1/10/21, 16:32 - Friend: Very nice sentence')\n",
    "print(match)"
   ]
  },
  {
   "cell_type": "code",
   "execution_count": null,
   "metadata": {
    "pycharm": {
     "name": "#%%\n"
    }
   },
   "outputs": [],
   "source": [
    "\"31/02/2020\""
   ]
  }
 ],
 "metadata": {
  "kernelspec": {
   "display_name": "Python 3.9.3 64-bit",
   "name": "chat_env_lin"
  },
  "language_info": {
   "codemirror_mode": {
    "name": "ipython",
    "version": 3
   },
   "file_extension": ".py",
   "mimetype": "text/x-python",
   "name": "python",
   "nbconvert_exporter": "python",
   "pygments_lexer": "ipython3",
   "version": "3.9.3"
  },
  "orig_nbformat": 2
 },
 "nbformat": 4,
 "nbformat_minor": 2
}
